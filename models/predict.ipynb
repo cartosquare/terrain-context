{
 "cells": [
  {
   "cell_type": "code",
   "execution_count": 1,
   "metadata": {
    "collapsed": false
   },
   "outputs": [
    {
     "name": "stderr",
     "output_type": "stream",
     "text": [
      "/Users/xuxiang/anaconda/lib/python2.7/site-packages/matplotlib/font_manager.py:273: UserWarning: Matplotlib is building the font cache using fc-list. This may take a moment.\n",
      "  warnings.warn('Matplotlib is building the font cache using fc-list. This may take a moment.')\n"
     ]
    }
   ],
   "source": [
    "# -*- coding: utf-8 -*-\n",
    "# set up Python environment: numpy for numerical routines, and matplotlib for plotting\n",
    "import numpy as np\n",
    "import os\n",
    "import matplotlib.pyplot as plt\n",
    "# display plots in this notebook\n",
    "%matplotlib inline"
   ]
  },
  {
   "cell_type": "code",
   "execution_count": 2,
   "metadata": {
    "collapsed": false
   },
   "outputs": [
    {
     "name": "stderr",
     "output_type": "stream",
     "text": [
      "Using Theano backend.\n"
     ]
    }
   ],
   "source": [
    "## keras\n",
    "from keras.models import Sequential\n",
    "# serialization\n",
    "import cPickle"
   ]
  },
  {
   "cell_type": "code",
   "execution_count": 3,
   "metadata": {
    "collapsed": false,
    "scrolled": true
   },
   "outputs": [
    {
     "name": "stdout",
     "output_type": "stream",
     "text": [
      "0 商业用地\n",
      "1 水渠\n",
      "2 草地\n",
      "3 工业用地\n",
      "4 湖泊\n",
      "5 球场\n",
      "6 采矿场\n",
      "7 水库\n",
      "8 居住区\n",
      "9 河流\n",
      "10 灌木\n",
      "11 林地\n",
      "12 沙滩\n",
      "13 建筑\n",
      "14 烟囱\n",
      "15 悬崖\n",
      "16 海岸\n",
      "17 冰川区\n",
      "18 温室\n",
      "19 停车场\n",
      "20 山峰\n",
      "21 码头\n",
      "22 绿茵场\n",
      "23 存储罐\n",
      "24 收费站\n",
      "25 塔\n",
      "26 跑道\n",
      "27 水域\n",
      "28 湿地\n",
      "29 月台\n",
      "30 铁路\n",
      "31 道路\n"
     ]
    }
   ],
   "source": [
    "unique_tags_csv = '/Users/xuxiang/ml/terrain-context/osm_tags/unique_tags.csv'\n",
    "# label-lookup\n",
    "labels_lookup = []\n",
    "count = 0\n",
    "with open(unique_tags_csv) as f:\n",
    "    for line in f:\n",
    "        (tag, tag_cn, label) = line.strip().split(',')\n",
    "        if count != int(label):\n",
    "            print 'invalid label loopup!'\n",
    "        labels_lookup.append(tag_cn)\n",
    "        print count, tag_cn\n",
    "        count = count + 1"
   ]
  },
  {
   "cell_type": "code",
   "execution_count": 4,
   "metadata": {
    "collapsed": false
   },
   "outputs": [],
   "source": [
    "def show_topn_error(y_true, y_pred, n):\n",
    "    correct = 0\n",
    "    for row in range(0, len(y_pred)):\n",
    "        a = list(pred[row])\n",
    "        b = sorted(range(len(a)), key=lambda i: a[i])[-n:]\n",
    "\n",
    "        if y_true[row] in b:\n",
    "            correct += 1\n",
    "\n",
    "    top_5_error = 1 - float(correct) / float(len(y_true))\n",
    "    print 'top-%d error: %f' % (n, top_5_error)"
   ]
  },
  {
   "cell_type": "code",
   "execution_count": 5,
   "metadata": {
    "collapsed": false
   },
   "outputs": [],
   "source": [
    "# Open test file\n",
    "x_test_file = '/Users/xuxiang/ml/terrain-context/features/x_test_bvlc_fc7.pkl'\n",
    "y_test_file = '/Users/xuxiang/ml/terrain-context/features/y_test_bvlc_fc7.pkl'\n",
    "with open(x_test_file, 'rb') as f:\n",
    "    X_test = cPickle.load(f)\n",
    "    \n",
    "with open(y_test_file, 'rb') as f:\n",
    "    y_test = cPickle.load(f)"
   ]
  },
  {
   "cell_type": "code",
   "execution_count": 6,
   "metadata": {
    "collapsed": false
   },
   "outputs": [
    {
     "data": {
      "text/plain": [
       "(17501, 4096)"
      ]
     },
     "execution_count": 6,
     "metadata": {},
     "output_type": "execute_result"
    }
   ],
   "source": [
    "X_test.shape"
   ]
  },
  {
   "cell_type": "code",
   "execution_count": 7,
   "metadata": {
    "collapsed": false
   },
   "outputs": [],
   "source": [
    "from keras.utils import np_utils\n",
    "\n",
    "X_test = X_test.astype('float32')\n",
    "Y_test = np_utils.to_categorical(y_test, len(labels_lookup))"
   ]
  },
  {
   "cell_type": "code",
   "execution_count": 8,
   "metadata": {
    "collapsed": false
   },
   "outputs": [
    {
     "data": {
      "text/plain": [
       "(17501, 32)"
      ]
     },
     "execution_count": 8,
     "metadata": {},
     "output_type": "execute_result"
    }
   ],
   "source": [
    "Y_test.shape"
   ]
  },
  {
   "cell_type": "code",
   "execution_count": 9,
   "metadata": {
    "collapsed": false
   },
   "outputs": [],
   "source": [
    "# load model\n",
    "from keras.models import model_from_json\n",
    "\n",
    "model_archiecture = '/Users/xuxiang/ml/terrain-context/models/model_architecture_bvlc_fc7.json'\n",
    "model_weights = '/Users/xuxiang/ml/terrain-context/models/model_weights_bvlc_fc7.h5'\n",
    "\n",
    "model = model_from_json(open(model_archiecture).read())\n",
    "model.load_weights(model_weights)\n",
    "\n",
    "# Finally, before it can be used, the model shall be compiled.\n",
    "model.compile(loss='categorical_crossentropy', optimizer='adam', metrics=['accuracy'])"
   ]
  },
  {
   "cell_type": "code",
   "execution_count": 10,
   "metadata": {
    "collapsed": false
   },
   "outputs": [
    {
     "name": "stdout",
     "output_type": "stream",
     "text": [
      "17472/17501 [============================>.] - ETA: 0s\n",
      "top-1 error: 0.471573\n"
     ]
    }
   ],
   "source": [
    "score, acc = model.evaluate(X_test, Y_test, batch_size=16)\n",
    "print '\\ntop-1 error: %f' % (acc)"
   ]
  },
  {
   "cell_type": "code",
   "execution_count": 11,
   "metadata": {
    "collapsed": false
   },
   "outputs": [],
   "source": [
    "pred = model.predict(X_test)"
   ]
  },
  {
   "cell_type": "code",
   "execution_count": 12,
   "metadata": {
    "collapsed": false
   },
   "outputs": [
    {
     "name": "stdout",
     "output_type": "stream",
     "text": [
      "top-5 error: 0.204903\n"
     ]
    }
   ],
   "source": [
    "show_topn_error(y_test, pred, 5)"
   ]
  },
  {
   "cell_type": "code",
   "execution_count": 13,
   "metadata": {
    "collapsed": false
   },
   "outputs": [
    {
     "data": {
      "text/plain": [
       "(2000, 4096)"
      ]
     },
     "execution_count": 13,
     "metadata": {},
     "output_type": "execute_result"
    }
   ],
   "source": [
    "# The caffe module needs to be on the Python path;\n",
    "#  we'll add it here explicitly.\n",
    "import sys\n",
    "caffe_root = '/Users/xuxiang/ml/caffe/'  # this file should be run from {caffe_root}/examples (otherwise change this line)\n",
    "sys.path.insert(0, caffe_root + 'python')\n",
    "\n",
    "import caffe\n",
    "import leveldb\n",
    "from caffe.proto import caffe_pb2\n",
    "\n",
    "db = leveldb.LevelDB('/Users/xuxiang/ml/google_image/process/features')\n",
    "\n",
    "count = 1\n",
    "keys = list()\n",
    "for key, value in db.RangeIter():\n",
    "    datum = caffe_pb2.Datum.FromString(db.Get(key))\n",
    "    data = caffe.io.datum_to_array(datum)\n",
    "    feat = np.transpose(data[:, 0])[0]\n",
    "    keys.append(key)\n",
    "    if count == 1:\n",
    "        features = feat\n",
    "        count += 1\n",
    "    else:\n",
    "        features = np.row_stack((features, feat))\n",
    "features.shape"
   ]
  },
  {
   "cell_type": "code",
   "execution_count": 14,
   "metadata": {
    "collapsed": true
   },
   "outputs": [],
   "source": [
    "features = features.astype('float32')\n",
    "pred = model.predict(features)"
   ]
  },
  {
   "cell_type": "code",
   "execution_count": 15,
   "metadata": {
    "collapsed": false
   },
   "outputs": [
    {
     "data": {
      "text/plain": [
       "['/Users/xuxiang/ml/google_image/tiles/L18/18_215696_99236.png',\n",
       " '/Users/xuxiang/ml/google_image/tiles/L18/18_215696_99237.png',\n",
       " '/Users/xuxiang/ml/google_image/tiles/L18/18_215696_99238.png',\n",
       " '/Users/xuxiang/ml/google_image/tiles/L18/18_215696_99239.png',\n",
       " '/Users/xuxiang/ml/google_image/tiles/L18/18_215696_99240.png',\n",
       " '/Users/xuxiang/ml/google_image/tiles/L18/18_215696_99241.png',\n",
       " '/Users/xuxiang/ml/google_image/tiles/L18/18_215696_99242.png',\n",
       " '/Users/xuxiang/ml/google_image/tiles/L18/18_215696_99243.png',\n",
       " '/Users/xuxiang/ml/google_image/tiles/L18/18_215696_99244.png',\n",
       " '/Users/xuxiang/ml/google_image/tiles/L18/18_215696_99245.png']"
      ]
     },
     "execution_count": 15,
     "metadata": {},
     "output_type": "execute_result"
    }
   ],
   "source": [
    "count = 0\n",
    "filenames = list()\n",
    "with open('/Users/xuxiang/ml/google_image/process/image_list.txt') as f:\n",
    "    for line in f.readlines():\n",
    "        filenames.append(line.split()[0])\n",
    "filenames[:10]"
   ]
  },
  {
   "cell_type": "code",
   "execution_count": 16,
   "metadata": {
    "collapsed": true
   },
   "outputs": [],
   "source": [
    "from IPython.display import Image\n",
    "from IPython.display import display\n",
    "def showimg(imgpath):\n",
    "    return Image(imgpath)"
   ]
  },
  {
   "cell_type": "code",
   "execution_count": 39,
   "metadata": {
    "collapsed": false
   },
   "outputs": [
    {
     "data": {
      "image/png": "[encoded data removed]",
      "text/plain": [
       "<IPython.core.display.Image object>"
      ]
     },
     "execution_count": 39,
     "metadata": {},
     "output_type": "execute_result"
    }
   ],
   "source": [
    "# 13, 100, 75, 78, 125\n",
    "# 0 植被\n",
    "# 15 停车场\n",
    "# 42 湖泊\n",
    "# 82 水，农作物\n",
    "# 133 高速公路\n",
    "# 362 苗圃\n",
    "# 378 小区\n",
    "# 396 厂房\n",
    "\n",
    "# 274 高楼\n",
    "# 499\n",
    "# 501 河流\n",
    "# 1652，1479 球场\n",
    "# 707 温室\n",
    "# 1122 林地\n",
    "# 1234 临街建筑\n",
    "idx = 1122\n",
    "test_filename = filenames[idx]\n",
    "showimg(test_filename)"
   ]
  },
  {
   "cell_type": "code",
   "execution_count": 40,
   "metadata": {
    "collapsed": false
   },
   "outputs": [
    {
     "name": "stdout",
     "output_type": "stream",
     "text": [
      "林地 0.409303545952\n",
      "草地 0.298866897821\n"
     ]
    }
   ],
   "source": [
    "a = list(pred[idx])\n",
    "b = sorted(range(len(a)), key=lambda i: a[i])[-5:]\n",
    "for i in range(1, 6):\n",
    "    ii = b[5 - i]\n",
    "    if a[ii] > 0.1:\n",
    "        print labels_lookup[ii], a[ii]"
   ]
  }
 ],
 "metadata": {
  "kernelspec": {
   "display_name": "Python 2",
   "language": "python",
   "name": "python2"
  },
  "language_info": {
   "codemirror_mode": {
    "name": "ipython",
    "version": 2
   },
   "file_extension": ".py",
   "mimetype": "text/x-python",
   "name": "python",
   "nbconvert_exporter": "python",
   "pygments_lexer": "ipython2",
   "version": "2.7.11"
  }
 },
 "nbformat": 4,
 "nbformat_minor": 0
}
